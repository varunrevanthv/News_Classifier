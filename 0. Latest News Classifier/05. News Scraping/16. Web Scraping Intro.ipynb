{
 "cells": [
  {
   "cell_type": "markdown",
   "metadata": {},
   "source": [
    "# Intro - Web Scraping"
   ]
  },
  {
   "cell_type": "markdown",
   "metadata": {},
   "source": [
    "In the following notebooks, we will write some code in order to obtain the latest news from the following newspapers:\n",
    "\n",
    "* El País\n",
    "* The Guardian\n",
    "* Daily Mail\n",
    "* The Mirror\n",
    "\n",
    "Since each newspaper has its own web code, we'll have to cover them one by one."
   ]
  },
  {
   "cell_type": "markdown",
   "metadata": {},
   "source": [
    "The objective of this step is to obtain, for each newspaper:\n",
    "\n",
    "* A dataframe with the news content (input)\n",
    "* A dataframe with the article title, link and predicted category"
   ]
  }
 ],
 "metadata": {
  "kernelspec": {
   "display_name": "Python 3",
   "language": "python",
   "name": "python3"
  },
  "language_info": {
   "codemirror_mode": {
    "name": "ipython",
    "version": 3
   },
   "file_extension": ".py",
   "mimetype": "text/x-python",
   "name": "python",
   "nbconvert_exporter": "python",
   "pygments_lexer": "ipython3",
   "version": "3.6.5"
  }
 },
 "nbformat": 4,
 "nbformat_minor": 2
}
